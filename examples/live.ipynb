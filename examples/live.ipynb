{
 "cells": [
  {
   "cell_type": "code",
   "execution_count": 1,
   "metadata": {},
   "outputs": [
    {
     "name": "stdout",
     "output_type": "stream",
     "text": [
      "flights_list {\n",
      "  flightid: 859004865\n",
      "  latitude: 40.0757523\n",
      "  longitude: 0.97397542\n",
      "  heading: 223\n",
      "  altitude: 31000\n",
      "  ground_speed: 439\n",
      "  icon: 19\n",
      "  timestamp: 1702423721\n",
      "  callsign: \"DLH506\"\n",
      "  extra_info {\n",
      "    flight: \"LH506\"\n",
      "    reg: \"D-ABYS\"\n",
      "    route {\n",
      "      from: \"FRA\"\n",
      "      to: \"GRU\"\n",
      "    }\n",
      "    type: \"B748\"\n",
      "    schedule {\n",
      "      eta: 1702458624\n",
      "    }\n",
      "  }\n",
      "}\n",
      "flights_list {\n",
      "  flightid: 859012623\n"
     ]
    }
   ],
   "source": [
    "# ruff: noqa: F704, F811, E402\n",
    "import httpx\n",
    "from fr24.livefeed import create_request, post_request\n",
    "from fr24.proto.request_pb2 import LiveFeedResponse\n",
    "\n",
    "\n",
    "async def france_data() -> LiveFeedResponse:\n",
    "    async with httpx.AsyncClient() as client:\n",
    "        request = create_request(north=50, west=-7, south=40, east=10)\n",
    "        live_data = await post_request(client, request)\n",
    "        return live_data\n",
    "\n",
    "\n",
    "data = await france_data()  # type: ignore\n",
    "print(str(data)[:400])"
   ]
  },
  {
   "cell_type": "markdown",
   "metadata": {},
   "source": [
    "# explore in JSON format\n",
    "take a look at livefeed.py to find more examples about how to use it"
   ]
  },
  {
   "cell_type": "code",
   "execution_count": 2,
   "metadata": {},
   "outputs": [
    {
     "data": {
      "text/plain": [
       "[{'flightid': 859004865,\n",
       "  'latitude': 40.075752,\n",
       "  'longitude': 0.9739754,\n",
       "  'heading': 223,\n",
       "  'altitude': 31000,\n",
       "  'groundSpeed': 439,\n",
       "  'icon': 19,\n",
       "  'timestamp': 1702423721,\n",
       "  'callsign': 'DLH506',\n",
       "  'extraInfo': {'flight': 'LH506',\n",
       "   'reg': 'D-ABYS',\n",
       "   'route': {'from': 'FRA', 'to': 'GRU'},\n",
       "   'type': 'B748',\n",
       "   'schedule': {'eta': 1702458624}}},\n",
       " {'flightid': 859012623,\n",
       "  'latitude': 40.486633,\n",
       "  'longitude': -3.5805511,\n",
       "  'heading': 180,\n",
       "  'groundSpeed': 19,\n",
       "  'timestamp': 1702423723,\n",
       "  'onGround': True,\n",
       "  'callsign': 'RYR30KB',\n",
       "  'extraInfo': {'flight': 'FR6609',\n",
       "   'reg': 'EI-EFI',\n",
       "   'route': {'from': 'RBA', 'to': 'MAD'},\n",
       "   'type': 'B738',\n",
       "   'schedule': {'eta': 1702423467}}}]"
      ]
     },
     "execution_count": 2,
     "metadata": {},
     "output_type": "execute_result"
    }
   ],
   "source": [
    "from google.protobuf.json_format import MessageToDict\n",
    "\n",
    "MessageToDict(data)[\"flightsList\"][:2]"
   ]
  }
 ],
 "metadata": {
  "kernelspec": {
   "display_name": "fr24-GWGQbF6j-py3.11",
   "language": "python",
   "name": "python3"
  },
  "language_info": {
   "codemirror_mode": {
    "name": "ipython",
    "version": 3
   },
   "file_extension": ".py",
   "mimetype": "text/x-python",
   "name": "python",
   "nbconvert_exporter": "python",
   "pygments_lexer": "ipython3",
   "version": "3.11.6"
  }
 },
 "nbformat": 4,
 "nbformat_minor": 2
}
